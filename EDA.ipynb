{
 "cells": [
  {
   "cell_type": "markdown",
   "metadata": {
    "_cell_guid": "98278cdf-5a15-7335-ec09-3d7462efee30",
    "_uuid": "5763bb4107717928e2c64ea0b5d7157893a612d8"
   },
   "source": [
    "**Simple Notebook for exploring the data ...**"
   ]
  },
  {
   "cell_type": "code",
   "execution_count": null,
   "metadata": {
    "_cell_guid": "82bb923a-06ca-dd74-169a-2bd0472f2446",
    "_uuid": "472c4eb6882db1695ab4dbbc197a36485e426fed"
   },
   "outputs": [],
   "source": [
    "import numpy as np \n",
    "import pandas as pd \n",
    "from scipy import signal\n",
    "import matplotlib.pyplot as plt\n",
    "\n",
    "import kagglegym"
   ]
  },
  {
   "cell_type": "code",
   "execution_count": null,
   "metadata": {
    "_cell_guid": "6fc7065c-3bb0-c605-762b-4d1de978db98",
    "_uuid": "ca722927ae0b17970a2f9aae5c95951cabc286f9"
   },
   "outputs": [],
   "source": [
    "# This part is going to be for explorind the dataset ...\n",
    "# so we want the entire dataset ..\n",
    "with pd.HDFStore(\"../input/train.h5\", \"r\") as train:\n",
    "    df = train.get(\"train\")"
   ]
  },
  {
   "cell_type": "code",
   "execution_count": null,
   "metadata": {
    "_cell_guid": "a0b4bed4-de7f-aa10-3e21-2060151db1e1",
    "_uuid": "b2debdda054ce4c67b3793b2b424ec90f08ad3f1"
   },
   "outputs": [],
   "source": [
    "dfId = df[['id', 'timestamp', 'y']].groupby('id').agg([\n",
    "                    np.min, np.max, len, \n",
    "                lambda m: (list(m)[0] - list(m)[-1])/np.abs(np.mean(list(m))) ]  ).reset_index()\n",
    "dfId.sort_values([('timestamp', 'amax')], inplace=True, ascending=False)\n",
    "print(dfId.head())\n",
    "print(dfId['y'].columns)"
   ]
  },
  {
   "cell_type": "markdown",
   "metadata": {
    "_cell_guid": "1a3e86d9-444b-bbd8-d4f6-91c8d8bb5366",
    "_uuid": "87a348f830f17b972b048dd8f59ac068b2d73db0"
   },
   "source": [
    "When were the stocks bought and sole? This is interesting. It appears that the stocks are bought at regular intervals, but dropped at random times ..."
   ]
  },
  {
   "cell_type": "code",
   "execution_count": null,
   "metadata": {
    "_cell_guid": "318c54d8-fabd-aa44-ad0d-b99caf4cfb3a",
    "_uuid": "61088e7d560066aaa57e12ae0a8b2bd366b3e284"
   },
   "outputs": [],
   "source": [
    "plt.plot(dfId[('timestamp', 'amin')], dfId['id'], '.', mfc='green', mec='None', label='bought')\n",
    "plt.plot(dfId[('timestamp', 'amax')], dfId['id'], '.', mfc='red',   mec='None', label='sold')\n",
    "plt.xlabel('timestamp')\n",
    "plt.ylabel('stock number')\n",
    "plt.legend()"
   ]
  },
  {
   "cell_type": "markdown",
   "metadata": {
    "_cell_guid": "1070837b-aa33-4d91-6dbb-240fa1f5608e",
    "_uuid": "0f5686dc1b9e3414b35ab1f1bec4bf8a46a485bf"
   },
   "source": [
    "Why are stocks sold at random points? Is it because the stock prices drop significantly? Let's look at the difference in the price between the start and end of a stock value when they are dropped. Are there any temporal trends in the data?"
   ]
  },
  {
   "cell_type": "code",
   "execution_count": null,
   "metadata": {
    "_cell_guid": "2ab1be12-051a-0ed0-d699-aa83499264b9",
    "_uuid": "e2c524edf6138040ceed0f2b36f2c8f860d954e5"
   },
   "outputs": [],
   "source": [
    "plt.scatter( dfId[('timestamp', 'amax')], \n",
    "             dfId['id'], \n",
    "             c    = dfId[('y', '<lambda>')], \n",
    "             s    = dfId[('timestamp', 'len')]/10,\n",
    "             cmap = plt.cm.BrBG, vmin=-40, vmax=40).set_alpha(0.6)\n",
    "plt.colorbar()"
   ]
  },
  {
   "cell_type": "markdown",
   "metadata": {
    "_cell_guid": "0dc480eb-3c33-6b3c-a73d-2d1a94900b6b",
    "_uuid": "5214d2eb939d5615e6aa661966c44099cd2c7145"
   },
   "source": [
    "It does not appear as if the number to stocks that are sold is is due to the value of the stock taking a dive. "
   ]
  },
  {
   "cell_type": "code",
   "execution_count": null,
   "metadata": {
    "_cell_guid": "29805d38-258d-f0d1-2fac-96c2c057d6df",
    "_uuid": "98806c8a74209362e745dedc489b0d570a289420"
   },
   "outputs": [],
   "source": [
    "import seaborn as sns\n",
    "dfStats = df[['y', 'id']].groupby('id').agg([np.median, np.std, np.min, np.max, np.mean]).reset_index()\n",
    "dfStats.sort_values( ('y', 'median'), inplace=True )\n",
    "print( dfStats.head() )\n",
    "print( dfStats['y'].apply(np.median) )\n",
    "\n",
    "\n",
    "sns.violinplot( dfStats[('y',  'amin')]   , color='orange')\n",
    "sns.violinplot( dfStats[('y',  'median')] , color='teal')\n",
    "sns.violinplot( dfStats[('y',  'amax')]   , color='indianred')\n",
    "\n",
    "\n",
    "plt.figure()\n",
    "temp = sns.kdeplot(dfStats[('y', 'amin')]  )\n",
    "temp = sns.kdeplot(dfStats[('y', 'median')])\n",
    "temp = sns.kdeplot(dfStats[('y', 'mean')]  )\n",
    "temp = sns.kdeplot(dfStats[('y', 'amax')]  )\n",
    "plt.yscale('log')\n",
    "\n",
    "plt.figure()\n",
    "temp = sns.kdeplot(dfStats[('y', 'std')])\n"
   ]
  },
  {
   "cell_type": "code",
   "execution_count": null,
   "metadata": {
    "_cell_guid": "7d3bf0df-de43-56c2-d1dc-1b5570620d6b",
    "_uuid": "784bb5b566df68ad8ec894b5a19f3f7f9b8b8566"
   },
   "outputs": [],
   "source": [
    "plt.figure()\n",
    "temp = sns.kdeplot(df['y'])\n",
    "plt.yscale('log')"
   ]
  },
  {
   "cell_type": "code",
   "execution_count": null,
   "metadata": {
    "_cell_guid": "e76269ec-415d-53c9-318c-b24373015d05",
    "_uuid": "381dd8ac786ad80821a9bf1e2d3d1860136e8402"
   },
   "outputs": [],
   "source": [
    "# Finding distributions of the result. \n",
    "# This is an entire portfolio. It will \n",
    "# be good to see how each variable changes \n",
    "# independent of each other ...\n",
    "# -------------------------------------------\n",
    "\n",
    "for i, (idVal, dfG) in enumerate(df[['id', 'timestamp', 'y']].groupby('id')):\n",
    "    if i> 100: break\n",
    "    df1 = dfG[['timestamp', 'y']].groupby('timestamp').agg(np.mean).reset_index()\n",
    "    plt.plot(df1['timestamp'], np.cumsum(df1['y']),label='%d'%idVal)"
   ]
  },
  {
   "cell_type": "code",
   "execution_count": null,
   "metadata": {
    "_cell_guid": "c95ebd65-bf02-b625-acfd-0b4be1eafdc7",
    "_uuid": "e6b54bdc0d5cbe3b9b0e03957994272f0337387a"
   },
   "outputs": [],
   "source": [
    "# Finding distributions of the result. \n",
    "# This is an entire portfolio. It will \n",
    "# be good to see how each variable changes \n",
    "# independent of each other ...\n",
    "# -------------------------------------------\n",
    "\n",
    "for i, (idVal, dfG) in enumerate(df[['id', 'timestamp', 'y']].groupby('id')):\n",
    "    if i> 100: break\n",
    "    #df1 = dfG[['timestamp', 'y']].groupby('timestamp').agg(np.mean).reset_index()\n",
    "    #plt.plot(df1['timestamp'], np.cumsum(df1['y']),label='%d'%idVal)\n",
    "    dfG.head()"
   ]
  },
  {
   "cell_type": "markdown",
   "metadata": {
    "_cell_guid": "763331ff-6d26-3d73-ab02-893359a3ae23",
    "_uuid": "3530c0406964af81cb2516c56479e357bc271f51"
   },
   "source": [
    "So this 'asset' is made up of other different assets. Looks like there are several assets that \"track each other.\" One thing to do would be to try and understand which one's do and which one's don't ...\n",
    "\n",
    "Will look more into this after work ..."
   ]
  },
  {
   "cell_type": "code",
   "execution_count": null,
   "metadata": {
    "_cell_guid": "0d19cf1d-4908-35af-b4ee-bd1a7d1747f5",
    "_uuid": "d9a47418f277a1e7ed3910d67558bd114618635f"
   },
   "outputs": [],
   "source": [
    "df2 = df[['id', 'timestamp', 'y']].pivot_table(values='y', index='timestamp', columns='id').reset_index(False)\n",
    "df2.head()"
   ]
  },
  {
   "cell_type": "markdown",
   "metadata": {
    "_cell_guid": "4dbd7b48-09d8-26ae-6449-b973346903bd",
    "_uuid": "d75164b26717f7f61883b4367d4fccaf5984bb33"
   },
   "source": [
    "Now, lets find the autocorrelations for the different id's"
   ]
  },
  {
   "cell_type": "code",
   "execution_count": null,
   "metadata": {
    "_cell_guid": "117bca49-1254-8cac-3c39-91360fe592a4",
    "_uuid": "bdbd284f0b37b440e4b25940670433ce992d319a"
   },
   "outputs": [],
   "source": [
    "cols = [ c for c in df2.columns if str(c) != 'timestamp']\n",
    "lags = [1]\n",
    "aCorrs = []\n",
    "for i, c in enumerate(cols):\n",
    "    try:\n",
    "        aCorrs.append((c , max([(df2[c].autocorr(lag)) for lag in lags])))\n",
    "    except:\n",
    "        pass\n",
    "    \n",
    "aCorrs = pd.DataFrame(aCorrs, columns=['id', 'maxAcorr']).sort_values('maxAcorr', ascending=False)\n",
    "print(aCorrs.head())"
   ]
  },
  {
   "cell_type": "markdown",
   "metadata": {
    "_cell_guid": "be72e74b-3bb6-9051-146c-c33422e626e3",
    "_uuid": "b4f972c754b6232c2436d3c05210d093b04faee8"
   },
   "source": [
    "Lets now plot the ones that have the highest autocorrelations ..."
   ]
  },
  {
   "cell_type": "code",
   "execution_count": null,
   "metadata": {
    "_cell_guid": "f9e5ac1c-54e6-10bd-da74-7bd2657018cf",
    "_uuid": "17734f4e6d3b58d5033ecbee7744b2bdf91b3589"
   },
   "outputs": [],
   "source": [
    "lags = range(1, 15)\n",
    "for c in list(aCorrs.id)[:10]:\n",
    "    plt.figure()\n",
    "    plt.plot(list(df2[c])[:-1], list(df2[c])[1:], 's')\n",
    "    plt.title(str(c))"
   ]
  },
  {
   "cell_type": "code",
   "execution_count": null,
   "metadata": {
    "_cell_guid": "533df306-0511-b708-582d-76aeaf301c1f",
    "_uuid": "39c83d5e10aadc17cbe514087c5e2f8e27f98049"
   },
   "outputs": [],
   "source": [
    "cols = [ c for c in df2.columns if str(c) != 'timestamp']\n",
    "corrs = df2[cols].corr()"
   ]
  },
  {
   "cell_type": "code",
   "execution_count": null,
   "metadata": {
    "_cell_guid": "efdebb1a-9094-714f-3270-c998e12b6cac",
    "_uuid": "9e3780aa97ac195dfdea740a459b06a483e4fbd2"
   },
   "outputs": [],
   "source": [
    "corrs"
   ]
  },
  {
   "cell_type": "code",
   "execution_count": null,
   "metadata": {
    "_cell_guid": "85cc4a12-633a-e418-a6db-ba092d939452",
    "_uuid": "c34fa37a9f9df833fd2e1576858bab469e25bb64"
   },
   "outputs": [],
   "source": [
    "temp = np.where(np.triu(corrs) < -0.9)\n",
    "temp = [sorted(a) for a in zip(temp[0], temp[1]) if a[0]!=a[1]]"
   ]
  },
  {
   "cell_type": "markdown",
   "metadata": {
    "_cell_guid": "5572ab61-48c9-b19d-208b-2d9bc005a0b3",
    "_uuid": "889ede7f20c3049ab46330e15b805dd18cd4ecaa"
   },
   "source": [
    "Lets plot the first few that are highly correlated ..."
   ]
  },
  {
   "cell_type": "code",
   "execution_count": null,
   "metadata": {
    "_cell_guid": "0de3230c-c92c-022e-5806-b5ba843e9941",
    "_uuid": "2a9fe9756e740dff964b0949320e38a3aa291ce4"
   },
   "outputs": [],
   "source": [
    "prevId = -1\n",
    "for i, (a, b) in enumerate(temp):\n",
    "    \n",
    "    if a != prevId:\n",
    "        plt.figure()\n",
    "        prevId = a\n",
    "        plt.plot(np.cumsum(df2.ix[:, a]), label='id=%d'%a)\n",
    "    plt.plot(np.cumsum(df2.ix[:, b]), label='id=%d'%b)\n",
    "    plt.legend()\n",
    "    \n",
    "    if i > 5: break\n",
    "    "
   ]
  },
  {
   "cell_type": "code",
   "execution_count": null,
   "metadata": {
    "_cell_guid": "88331616-ffd8-8efc-f24f-81497a3ed2cd",
    "_uuid": "bda117c9c4eda9473a819794b6956553e24bdf7c"
   },
   "outputs": [],
   "source": [
    "list(df.columns)"
   ]
  },
  {
   "cell_type": "markdown",
   "metadata": {
    "_cell_guid": "61a6be78-2b66-c6b4-cafb-b1e2a08ae1c4",
    "_uuid": "095daa367161eca98d50c805c53aeec190281568"
   },
   "source": [
    "It appears that the portfolio is maintained by some form of advanced \"pairs trading\" platform. We are supposed to be predicting the result of the *result* of the entire system. \n",
    "\n",
    "Because of the \"hedging strategy\" that it is applying, I believe that the cumsum of the `y` variable over time is so fairly constant. If we can figure out that, we should be able to do something interesting. \n",
    "\n",
    "The problem just got infinitely more challenging!"
   ]
  }
 ],
 "metadata": {
  "_change_revision": 0,
  "_is_fork": false,
  "kernelspec": {
   "display_name": "Python 2",
   "language": "python",
   "name": "python2"
  },
  "language_info": {
   "codemirror_mode": {
    "name": "ipython",
    "version": 2
   },
   "file_extension": ".py",
   "mimetype": "text/x-python",
   "name": "python",
   "nbconvert_exporter": "python",
   "pygments_lexer": "ipython2",
   "version": "2.7.14"
  }
 },
 "nbformat": 4,
 "nbformat_minor": 1
}
